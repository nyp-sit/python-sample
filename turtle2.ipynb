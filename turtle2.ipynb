{
 "cells": [
  {
   "cell_type": "markdown",
   "metadata": {},
   "source": [
    "In this part 2 of fun with turtle, lets see how we can explore while and conditional flow statement with turtle.  Run the following example and see how the shape is drawn.  Read the comments to understand how it works.  For details on all turtle methods, refer to [Python turtle summary](http://interactivepython.org/runestone/static/IntroPythonTurtles/Summary/summary.html) "
   ]
  },
  {
   "cell_type": "code",
   "execution_count": 4,
   "metadata": {
    "collapsed": false
   },
   "outputs": [
    {
     "name": "stdout",
     "output_type": "stream",
     "text": [
      "(-0.00,-0.00)\n"
     ]
    }
   ],
   "source": [
    "import turtle\n",
    "\n",
    "# set the line color to red, and fill color as yellow\n",
    "turtle.color('red', 'yellow')\n",
    "# get ready to fill the shapes with yellow color\n",
    "turtle.begin_fill()\n",
    "# loop forever\n",
    "while True:\n",
    "    # draw lines with length 200\n",
    "    turtle.forward(200)\n",
    "    # turn 170 degrees\n",
    "    turtle.left(170)\n",
    "    # break the loop when the pen is back to starting position\n",
    "    if abs(turtle.pos()) < 1:\n",
    "        break\n",
    "# fill the shapes with yellow color\n",
    "turtle.end_fill()\n",
    "turtle.exitonclick()"
   ]
  },
  {
   "cell_type": "markdown",
   "metadata": {},
   "source": [
    "Let's keep it simple for now.  Draw a circle of with blue line and yellow background."
   ]
  },
  {
   "cell_type": "code",
   "execution_count": 1,
   "metadata": {
    "collapsed": false
   },
   "outputs": [],
   "source": [
    "import turtle\n",
    "turtle.color('blue', 'yellow')\n",
    "turtle.begin_fill()\n",
    "turtle.circle(50)\n",
    "turtle.end_fill()\n",
    "turtle.exitonclick()"
   ]
  },
  {
   "cell_type": "markdown",
   "metadata": {},
   "source": [
    "Draw a square with green color line and orange fill color."
   ]
  },
  {
   "cell_type": "code",
   "execution_count": 1,
   "metadata": {
    "collapsed": false
   },
   "outputs": [],
   "source": [
    "import turtle\n",
    "turtle.color('green', 'orange')\n",
    "turtle.begin_fill()\n",
    "for i in range(4) :\n",
    "    turtle.forward(50)\n",
    "    turtle.left(90)\n",
    "turtle.end_fill()\n",
    "turtle.exitonclick()"
   ]
  },
  {
   "cell_type": "markdown",
   "metadata": {},
   "source": [
    "Let's do this with a while loop, how can we do that?  Noticed that you need to introduce an iteration variable that keeps increasing until the while condition become false!"
   ]
  },
  {
   "cell_type": "code",
   "execution_count": 7,
   "metadata": {
    "collapsed": true
   },
   "outputs": [],
   "source": [
    "import turtle\n",
    "turtle.color('green', 'orange')\n",
    "turtle.begin_fill()\n",
    "\n",
    "#iteration variable\n",
    "i=0\n",
    "while i < 4 :\n",
    "    turtle.forward(50)\n",
    "    turtle.left(90)\n",
    "    i += 1\n",
    "    \n",
    "turtle.end_fill()\n",
    "turtle.exitonclick()"
   ]
  },
  {
   "cell_type": "markdown",
   "metadata": {},
   "source": [
    "What about drawing a 5 sided hexagon?  Can you also think about how this program can be extended to draw a n-sided shape?"
   ]
  },
  {
   "cell_type": "code",
   "execution_count": 1,
   "metadata": {
    "collapsed": false
   },
   "outputs": [],
   "source": [
    "import turtle\n",
    "turtle.color('green', 'orange')\n",
    "turtle.begin_fill()\n",
    "\n",
    "#iteration variable\n",
    "i=0\n",
    "while i < 5 :\n",
    "    turtle.forward(50)\n",
    "    turtle.left(360/5)\n",
    "    i += 1\n",
    "    \n",
    "turtle.end_fill()\n",
    "turtle.exitonclick()"
   ]
  },
  {
   "cell_type": "markdown",
   "metadata": {},
   "source": [
    "Do you prefer a circle or a square?  Let the user decide then.  That's what a conditional flow is good for."
   ]
  },
  {
   "cell_type": "code",
   "execution_count": null,
   "metadata": {
    "collapsed": false
   },
   "outputs": [],
   "source": [
    "import turtle\n",
    "type = input('What shape do you like (square or circle) : ')\n",
    "turtle.color('green', 'orange')\n",
    "turtle.begin_fill()\n",
    "\n",
    "if type == 'square' :\n",
    "    #iteration variable\n",
    "    i=0\n",
    "    while i < 4 :\n",
    "        turtle.forward(50)\n",
    "        turtle.left(90)\n",
    "        i += 1\n",
    "elif type == 'circle' :\n",
    "    turtle.circle(50)\n",
    "else :\n",
    "    print('Unknown Shape')\n",
    "turtle.end_fill()\n",
    "turtle.exitonclick()"
   ]
  },
  {
   "cell_type": "markdown",
   "metadata": {},
   "source": [
    "Challenge # 3 : write a program that will ask for user to specify the type of shapes that he want to draw.  If he does not want to draw a circle, ask him the number of sides the shape should have."
   ]
  },
  {
   "cell_type": "code",
   "execution_count": null,
   "metadata": {
    "collapsed": true
   },
   "outputs": [],
   "source": [
    "import turtle\n",
    "type = input('Do you want to draw a circle (Yes or No) : ')\n",
    "# if the user wanted to draw a circle, continue to draw a circle, otherwise, ask the user what is the number\n",
    "# of sides that he wanted to draw.\n",
    "\n",
    "turtle.color('green', 'orange')\n",
    "turtle.begin_fill()\n",
    "\n",
    "\n",
    "\n",
    "turtle.end_fill()\n",
    "turtle.exitonclick()"
   ]
  }
 ],
 "metadata": {
  "kernelspec": {
   "display_name": "Python [conda env:conda3]",
   "language": "python",
   "name": "conda-env-conda3-py"
  },
  "language_info": {
   "codemirror_mode": {
    "name": "ipython",
    "version": 3
   },
   "file_extension": ".py",
   "mimetype": "text/x-python",
   "name": "python",
   "nbconvert_exporter": "python",
   "pygments_lexer": "ipython3",
   "version": "3.5.3"
  }
 },
 "nbformat": 4,
 "nbformat_minor": 1
}
