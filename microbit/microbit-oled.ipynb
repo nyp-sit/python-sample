{
 "cells": [
  {
   "cell_type": "markdown",
   "metadata": {},
   "source": [
    "Microbit-Micropython snippet for SSD1306 (OLED) (https://gist.github.com/yuliantoeric/2eff0ed8fd2457f7862a8ea9979073ca) To use the OLED display, copy the source entirely.  Use oled_add_text() to display text on the display."
   ]
  },
  {
   "cell_type": "code",
   "execution_count": null,
   "metadata": {
    "collapsed": true
   },
   "outputs": [],
   "source": [
    "# Adapted from https://github.com/fizban99/microbit_ssd1306\n",
    "\n",
    "from microbit import i2c, Image\n",
    "\n",
    "OLED_ADDR = 0x3c\n",
    "oled_screen = bytearray('b\\x40') + bytearray(512)\n",
    "\n",
    "def oled_initialize():\n",
    "    for c in ([0xae], [0xa4], [0xd5, 0xf0], [0xa8, 0x3f], [0xd3, 0x00], [0 | 0x0], [0x8d, 0x14], [0x20, 0x00], [0x21, 0, 127], [0x22, 0, 63], [0xa0 | 0x1], [0xc8], [0xda, 0x12], [0x81, 0xcf], [0xd9, 0xf1], [0xdb, 0x40], [0xa6], [0xd6, 1], [0xaf]):\n",
    "        i2c.write(OLED_ADDR, b'\\x00' + bytearray(c))\n",
    "\n",
    "def oled_set_pos(col=0, page=0):\n",
    "    i2c.write(OLED_ADDR, b'\\x00' + bytearray([0xb0 | page]))\n",
    "    c1, c2 = col * 2 & 0x0F, col >> 3\n",
    "    i2c.write(OLED_ADDR, b'\\x00' + bytearray([0x00 | c1]))\n",
    "    i2c.write(OLED_ADDR, b'\\x00' + bytearray([0x10 | c2]))\n",
    "\n",
    "def oled_clear_screen(c=0):\n",
    "    global oled_screen\n",
    "    oled_set_pos()\n",
    "    for i in range(1, 513):\n",
    "        oled_screen[i] = 0\n",
    "    oled_draw_screen()\n",
    "\n",
    "def oled_draw_screen():\n",
    "    global oled_screen\n",
    "    oled_set_pos()\n",
    "    i2c.write(OLED_ADDR, oled_screen)\n",
    "\n",
    "def oled_add_text(x, y, text):\n",
    "    global oled_screen\n",
    "    for i in range(0, min(len(text), 12 - x)):\n",
    "        for c in range(0, 5):\n",
    "            col = 0\n",
    "            for r in range(1, 6):\n",
    "                p = Image(text[i]).get_pixel(c, r - 1)\n",
    "                col = col | (1 << r) if (p != 0) else col\n",
    "            ind = x * 10 + y * 128 + i * 10 + c * 2 + 1\n",
    "            oled_screen[ind], oled_screen[ind + 1] = col, col\n",
    "    oled_set_pos(x * 5, y)\n",
    "    ind0 = x * 10 + y * 128 + 1\n",
    "    i2c.write(OLED_ADDR, b'\\x40' + oled_screen[ind0 : (ind+1)])\n",
    "\n",
    "oled_initialize()\n",
    "oled_clear_screen()\n",
    "\n",
    "# Screen divided into 12 columns and 4 rows\n",
    "# oled_add_text(0, 0, 'Hello world!')"
   ]
  }
 ],
 "metadata": {
  "anaconda-cloud": {},
  "kernelspec": {
   "display_name": "Python [conda env:conda3]",
   "language": "python",
   "name": "conda-env-conda3-py"
  },
  "language_info": {
   "codemirror_mode": {
    "name": "ipython",
    "version": 3
   },
   "file_extension": ".py",
   "mimetype": "text/x-python",
   "name": "python",
   "nbconvert_exporter": "python",
   "pygments_lexer": "ipython3",
   "version": "3.5.3"
  }
 },
 "nbformat": 4,
 "nbformat_minor": 1
}
