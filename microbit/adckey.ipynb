{
 "cells": [
  {
   "cell_type": "markdown",
   "metadata": {},
   "source": [
    "ADCKey examples.  Assuming the device is attached to pin0.  When you click on the various button, the letter will be displayed on the screen."
   ]
  },
  {
   "cell_type": "code",
   "execution_count": null,
   "metadata": {
    "collapsed": true
   },
   "outputs": [],
   "source": [
    "from microbit import *\n",
    "while True :\n",
    "    reading = pin0.read_analog()\n",
    "    if reading < 3 :\n",
    "        display.show('A')\n",
    "    elif reading < 55 :\n",
    "        display.show('B')\n",
    "    elif reading < 101 :\n",
    "        display.show('C')\n",
    "    elif reading < 143 :\n",
    "        display.show('D')\n",
    "    elif reading < 550 :\n",
    "        display.show('E')\n",
    "    else :\n",
    "        display.show('-')"
   ]
  }
 ],
 "metadata": {
  "anaconda-cloud": {},
  "kernelspec": {
   "display_name": "Python [conda env:conda3]",
   "language": "python",
   "name": "conda-env-conda3-py"
  },
  "language_info": {
   "codemirror_mode": {
    "name": "ipython",
    "version": 3
   },
   "file_extension": ".py",
   "mimetype": "text/x-python",
   "name": "python",
   "nbconvert_exporter": "python",
   "pygments_lexer": "ipython3",
   "version": "3.5.3"
  }
 },
 "nbformat": 4,
 "nbformat_minor": 1
}
