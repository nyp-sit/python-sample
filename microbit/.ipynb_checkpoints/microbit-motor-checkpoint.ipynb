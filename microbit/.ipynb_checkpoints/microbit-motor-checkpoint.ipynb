{
 "cells": [
  {
   "cell_type": "markdown",
   "metadata": {},
   "source": [
    "Code snippets for servo motor assuming that the motor is connected to Pin0.  Reference from [micro python site](https://microbit-playground.co.uk/components/servo)"
   ]
  },
  {
   "cell_type": "code",
   "execution_count": null,
   "metadata": {
    "collapsed": true
   },
   "outputs": [],
   "source": [
    "from microbit import *\n",
    "\n",
    "class Servo:\n",
    "\n",
    "    \"\"\"\n",
    "    A simple class for controlling hobby servos.\n",
    "\n",
    "    Args:\n",
    "        pin (pin0 .. pin3): The pin where servo is connected.\n",
    "        freq (int): The frequency of the signal, in hertz.\n",
    "        min_us (int): The minimum signal length supported by the servo.\n",
    "        max_us (int): The maximum signal length supported by the servo.\n",
    "        angle (int): The angle between minimum and maximum positions.\n",
    "\n",
    "    Usage:\n",
    "        SG90 @ 3.3v servo connected to pin0\n",
    "        = Servo(pin0).write_angle(90)\n",
    "    \"\"\"\n",
    "\n",
    "    def __init__(self, pin, freq=50, min_us=600, max_us=2400, angle=180):\n",
    "        self.min_us = min_us\n",
    "        self.max_us = max_us\n",
    "        self.us = 0\n",
    "        self.freq = freq\n",
    "        self.angle = angle\n",
    "        self.analog_period = 0\n",
    "        self.pin = pin\n",
    "        analog_period = round((1/self.freq) * 1000)  # hertz to miliseconds\n",
    "        self.pin.set_analog_period(analog_period)\n",
    "\n",
    "    def write_us(self, us):\n",
    "        us = min(self.max_us, max(self.min_us, us))\n",
    "        duty = round(us * 1024 * self.freq // 1000000)\n",
    "        self.pin.write_analog(duty)\n",
    "        self.pin.write_digital(0)  # turn the pin off\n",
    "\n",
    "    def write_angle(self, degrees=None):\n",
    "        degrees = degrees % 360\n",
    "        total_range = self.max_us - self.min_us\n",
    "        us = self.min_us + total_range * degrees // self.angle\n",
    "        self.write_us(us)\n",
    "        \n",
    "        \n",
    "for i in range(5) :\n",
    "    Servo(pin0).write_angle(0)\n",
    "    sleep(3000)\n",
    "    Servo(pin0).write_angle(180)\n",
    "    sleep(3000)\n"
   ]
  }
 ],
 "metadata": {
  "kernelspec": {
   "display_name": "Python [conda env:conda3]",
   "language": "python",
   "name": "conda-env-conda3-py"
  },
  "language_info": {
   "codemirror_mode": {
    "name": "ipython",
    "version": 3
   },
   "file_extension": ".py",
   "mimetype": "text/x-python",
   "name": "python",
   "nbconvert_exporter": "python",
   "pygments_lexer": "ipython3",
   "version": "3.5.3"
  }
 },
 "nbformat": 4,
 "nbformat_minor": 1
}
