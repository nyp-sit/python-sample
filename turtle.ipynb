{
 "cells": [
  {
   "cell_type": "markdown",
   "metadata": {},
   "source": [
    "Turtle is a python feature that lets you draw 2D graphics on a drawing board.  You need additional library installation in order to use turtle.  The easiest way is to download and install [Anaconda](https://www.continuum.io/downloads) to get started.  Let's take a look at a typical turtle program, run the program and see the output."
   ]
  },
  {
   "cell_type": "code",
   "execution_count": 1,
   "metadata": {
    "collapsed": false
   },
   "outputs": [],
   "source": [
    "# import turtle module\n",
    "import turtle\n",
    "\n",
    "# set the drawing speed to maximum\n",
    "turtle.speed(0)\n",
    "\n",
    "# draw 300 triangles\n",
    "for i in range(300) :\n",
    "    # draw an equilateral triangle\n",
    "    for s in range(3) :\n",
    "        turtle.forward(i)\n",
    "        turtle.left(120)\n",
    "    # tilt by 5 degrees to the left\n",
    "    turtle.left(5)\n",
    "\n",
    "# click on the window to exit the program\n",
    "turtle.exitonclick()"
   ]
  },
  {
   "cell_type": "markdown",
   "metadata": {},
   "source": [
    "Import turtle before you can use the drawing library.  To draw a line, use the forward() method and specify the length of the line to be drawn.  At the start, the arrow is pointing towards the 0 degree, which is towards the left."
   ]
  },
  {
   "cell_type": "code",
   "execution_count": 1,
   "metadata": {
    "collapsed": true
   },
   "outputs": [],
   "source": [
    "import turtle\n",
    "turtle.forward(50)"
   ]
  },
  {
   "cell_type": "markdown",
   "metadata": {},
   "source": [
    "Turn the arrow to face the north direction by using the left(90) method.  And forward() by the same length again.  Notice that the arrow move up by the same distance."
   ]
  },
  {
   "cell_type": "code",
   "execution_count": 2,
   "metadata": {
    "collapsed": true
   },
   "outputs": [],
   "source": [
    "turtle.left(90)\n",
    "turtle.forward(50)"
   ]
  },
  {
   "cell_type": "markdown",
   "metadata": {},
   "source": [
    "*Complete the drawing of a square by adding the statement each comment.*"
   ]
  },
  {
   "cell_type": "code",
   "execution_count": 3,
   "metadata": {
    "collapsed": true
   },
   "outputs": [],
   "source": [
    "# turn left 90 degrees\n",
    "turtle.left(90)\n",
    "# move forward 50 steps\n",
    "turtle.forward(50)\n",
    "# turn left 90 degrees\n",
    "turtle.left(90)\n",
    "# move forward 50 steps to complete the square\n",
    "turtle.forward(50)"
   ]
  },
  {
   "cell_type": "markdown",
   "metadata": {},
   "source": [
    "Use the exitonclick() method so that the drawing board can be closed when you click on it."
   ]
  },
  {
   "cell_type": "code",
   "execution_count": 5,
   "metadata": {
    "collapsed": true
   },
   "outputs": [],
   "source": [
    "turtle.exitonclick()"
   ]
  },
  {
   "cell_type": "markdown",
   "metadata": {},
   "source": [
    "Here's how the draw square program looks like."
   ]
  },
  {
   "cell_type": "code",
   "execution_count": 7,
   "metadata": {
    "collapsed": false
   },
   "outputs": [],
   "source": [
    "import turtle\n",
    "turtle.forward(50)\n",
    "turtle.left(90)\n",
    "turtle.forward(50)\n",
    "turtle.left(90)\n",
    "turtle.forward(50)\n",
    "turtle.left(90)\n",
    "turtle.forward(50)\n",
    "turtle.exitonclick()"
   ]
  },
  {
   "cell_type": "markdown",
   "metadata": {},
   "source": [
    "*Modify the program to use a for loop to draw the square.*"
   ]
  },
  {
   "cell_type": "code",
   "execution_count": 3,
   "metadata": {
    "collapsed": false
   },
   "outputs": [],
   "source": [
    "import turtle\n",
    "# Repeat move forward and turn left 4 times using the for loop\n",
    "for i in range(4)\n",
    "    turtle.forward(50)\n",
    "    turtle.left(90)\n",
    "# add the click on exit event\n",
    "turtle.exitonclick()"
   ]
  },
  {
   "cell_type": "markdown",
   "metadata": {},
   "source": [
    "*Can you draw an equilateral triangle now?*  Consider there are 3 sides to a triangle, the loop should run 3 times.  Instead of turning 90 degrees, the arrow need to turn 120 degrees now.  Think about how do you get 120 degrees."
   ]
  },
  {
   "cell_type": "code",
   "execution_count": 3,
   "metadata": {
    "collapsed": false,
    "scrolled": true
   },
   "outputs": [],
   "source": [
    "import turtle\n",
    "# Repeate move forward and turn 120 degrees 3 times using the for loop\n",
    "for i in range(3)\n",
    "    turtle.forward(50)\n",
    "    turtle.left(120)\n",
    "# add the click on exit event\n",
    "turtle.exitonclick()"
   ]
  },
  {
   "cell_type": "markdown",
   "metadata": {},
   "source": [
    "*Can you draw a hexagon, a 6 sided shape?*  The for loop should run 6 times, and try to consider the angle to turn now."
   ]
  },
  {
   "cell_type": "code",
   "execution_count": 1,
   "metadata": {
    "collapsed": true
   },
   "outputs": [],
   "source": [
    "import turtle\n",
    "# Repeate move forward and turn x degrees 6 times using the for loop\n",
    "for i in range(6)\n",
    "    turtle.forward(50)\n",
    "    turtle.left(60)\n",
    "# add the click on exit event\n",
    "turtle.exitonclick()"
   ]
  }
 ],
 "metadata": {
  "anaconda-cloud": {},
  "kernelspec": {
   "display_name": "Python [conda env:conda3]",
   "language": "python",
   "name": "conda-env-conda3-py"
  },
  "language_info": {
   "codemirror_mode": {
    "name": "ipython",
    "version": 3
   },
   "file_extension": ".py",
   "mimetype": "text/x-python",
   "name": "python",
   "nbconvert_exporter": "python",
   "pygments_lexer": "ipython3",
   "version": "3.5.3"
  }
 },
 "nbformat": 4,
 "nbformat_minor": 1
}
